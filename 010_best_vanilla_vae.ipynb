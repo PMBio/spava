{
 "cells": [
  {
   "cell_type": "code",
   "execution_count": 1,
   "metadata": {},
   "outputs": [],
   "source": [
    "import os\n",
    "os.chdir('/data/l989o/deployed/a')\n",
    "import sys\n",
    "if '/data/l989o/a' in sys.path:\n",
    "    sys.path.remove('/data/l989o/a')"
   ]
  },
  {
   "cell_type": "code",
   "execution_count": 2,
   "metadata": {},
   "outputs": [],
   "source": [
    "import scanpy as sc\n",
    "import anndata as ad"
   ]
  },
  {
   "cell_type": "code",
   "execution_count": 3,
   "metadata": {},
   "outputs": [
    {
     "name": "stdout",
     "output_type": "stream",
     "text": [
      "True\n",
      "<KeysViewHDF5 ['count', 'maximum', 'mean', 'sum', 'variance']>\n"
     ]
    }
   ],
   "source": [
    "from data import TransformedMeanDataset\n",
    "from tqdm import tqdm\n",
    "ds_train = TransformedMeanDataset('train')\n",
    "ds_validation = TransformedMeanDataset('validation')\n",
    "ds_test = TransformedMeanDataset('test')\n",
    "from jupy import *"
   ]
  },
  {
   "cell_type": "code",
   "execution_count": 4,
   "metadata": {},
   "outputs": [
    {
     "name": "stderr",
     "output_type": "stream",
     "text": [
      "100%|██████████| 215/215 [00:02<00:00, 101.08it/s]"
     ]
    },
    {
     "name": "stdout",
     "output_type": "stream",
     "text": [
      "torch.Size([442113, 39])\n"
     ]
    },
    {
     "name": "stderr",
     "output_type": "stream",
     "text": [
      "\n"
     ]
    }
   ],
   "source": [
    "import torch\n",
    "list_of_t = []\n",
    "list_of_patient_index = []\n",
    "for i, t in enumerate(tqdm(ds_train)):\n",
    "    list_of_t.append(t)\n",
    "    ii = torch.tensor([i] * len(t))\n",
    "    list_of_patient_index.append(ii)\n",
    "t_train = torch.cat(list_of_t, dim=0)\n",
    "patient_indexes = torch.cat(list_of_patient_index)\n",
    "print(t_train.shape)"
   ]
  }
 ],
 "metadata": {
  "kernelspec": {
   "display_name": "Python 3",
   "language": "python",
   "name": "python3"
  },
  "language_info": {
   "codemirror_mode": {
    "name": "ipython",
    "version": 3
   },
   "file_extension": ".py",
   "mimetype": "text/x-python",
   "name": "python",
   "nbconvert_exporter": "python",
   "pygments_lexer": "ipython3",
   "version": "3.8.0"
  },
  "toc-autonumbering": false,
  "toc-showmarkdowntxt": true
 },
 "nbformat": 4,
 "nbformat_minor": 4
}
