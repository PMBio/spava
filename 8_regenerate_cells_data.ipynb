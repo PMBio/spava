{
 "cells": [
  {
   "cell_type": "code",
   "execution_count": null,
   "outputs": [],
   "source": [
    "import os\n",
    "os.chdir('/data/l989o/deployed/a')\n",
    "import sys\n",
    "if '/data/l989o/a' in sys.path:\n",
    "    sys.path.remove('/data/l989o/a')\n",
    "print(os.getcwd())\n",
    "import numpy as np\n",
    "print(np.random.randint(0, 5))\n",
    "from jupy import *"
   ],
   "metadata": {
    "collapsed": false,
    "pycharm": {
     "name": "#%%\n"
    }
   }
  },
  {
   "cell_type": "code",
   "execution_count": null,
   "outputs": [],
   "source": [
    "from data import RawCountDataset\n",
    "import torch\n",
    "import matplotlib.pyplot as plt\n",
    "params = {\"ytick.color\" : \"k\",\n",
    "          \"xtick.color\" : \"k\",\n",
    "          'text.color' : 'k',\n",
    "          \"axes.labelcolor\" : \"k\",\n",
    "          \"axes.edgecolor\" : \"k\"}\n",
    "plt.rcParams['figure.facecolor'] = 'white'\n",
    "plt.rcParams.update(params)"
   ],
   "metadata": {
    "collapsed": false,
    "pycharm": {
     "name": "#%%\n"
    }
   }
  },
  {
   "cell_type": "code",
   "execution_count": null,
   "outputs": [],
   "source": [
    "import os\n",
    "\n",
    "os.makedirs('data/spatial_uzh_processed/a/', exist_ok=True)\n",
    "\n",
    "\n",
    "def plt_show(plt, filename, dpi=72):\n",
    "    f = os.path.join('data/spatial_uzh_processed/a', filename)\n",
    "    print('saving figure in', f)\n",
    "    plt.savefig(f, dpi=dpi, bbox_inches='tight')\n",
    "    plt.show()\n"
   ],
   "metadata": {
    "collapsed": false,
    "pycharm": {
     "name": "#%%\n"
    }
   }
  },
  {
   "cell_type": "code",
   "execution_count": null,
   "outputs": [],
   "source": [
    "SPLIT = 'train'\n",
    "# SPLIT = 'validation'\n",
    "# SPLIT = 'test'"
   ],
   "metadata": {
    "collapsed": false,
    "pycharm": {
     "name": "#%%\n"
    }
   }
  },
  {
   "cell_type": "code",
   "execution_count": null,
   "outputs": [],
   "source": [
    "from data import AreaDataset\n",
    "ds = AreaDataset(SPLIT)\n",
    "ome_filenames = ds.filenames\n",
    "list_of_cells = []\n",
    "list_of_ome_filenames = []\n",
    "list_of_ome_indices = []\n",
    "list_of_cell_ids = []\n",
    "for i, x in enumerate(ds):\n",
    "    x = torch.tensor(x[1:])\n",
    "    list_of_cells.append(x)\n",
    "    list_of_ome_filenames.extend([ome_filenames[i]] * len(x))\n",
    "    list_of_ome_indices.append(torch.tensor([i] * len(x)))\n",
    "    list_of_cell_ids.append(torch.tensor(list(range(1, len(x) + 1))))\n",
    "cells = torch.cat(list_of_cells)\n",
    "ome_indices = torch.cat(list_of_ome_indices)\n",
    "cell_ids = torch.cat(list_of_cell_ids)\n",
    "print(f'cells.shape = {cells.shape}, ome_indices.shape = {ome_indices.shape}, cell_ids.shape = {cell_ids.shape}')"
   ],
   "metadata": {
    "collapsed": false,
    "pycharm": {
     "name": "#%%\n"
    }
   }
  },
  {
   "cell_type": "code",
   "execution_count": null,
   "outputs": [],
   "source": [
    "small_cells = cells[cells < 10]\n",
    "from pprint import pprint\n",
    "pprint(list(zip(*np.unique(small_cells, return_counts=True))))"
   ],
   "metadata": {
    "collapsed": false,
    "pycharm": {
     "name": "#%%\n"
    }
   }
  },
  {
   "cell_type": "code",
   "execution_count": null,
   "outputs": [],
   "source": [
    "import matplotlib.pyplot as plt\n",
    "plt.figure(figsize=(16, 9))\n",
    "plt.hist(cells.numpy(), bins=100)\n",
    "a = 10\n",
    "b = 300\n",
    "plt.axvline(x=a, c='r')\n",
    "plt.axvline(x=b, c='r')\n",
    "plt.text(a - 25, 100000,f'cells with < {a} pixels',rotation=90, c='r', verticalalignment='top', fontsize=15)\n",
    "plt.text(b + 4, 100000,f'cells with > {b} pixels',rotation=90, c='r', verticalalignment='top', fontsize=15)\n",
    "plt.xlabel('# pixels per cell')\n",
    "plt.ylabel('count')\n",
    "plt.title('filtering out cells with abnormal number of pixels')\n",
    "plt_show(plt, 'cells_area_cutoff.png')"
   ],
   "metadata": {
    "collapsed": false,
    "pycharm": {
     "name": "#%%\n"
    }
   }
  },
  {
   "cell_type": "code",
   "execution_count": null,
   "outputs": [],
   "source": [
    "import matplotlib.pyplot as plt\n",
    "plt.figure(figsize=(4, 3), dpi=152)\n",
    "plt.hist(cells.numpy()[cells <= a], bins=a, align='left')\n",
    "plt.xlim([0, a])\n",
    "plt.xticks(list(range(a)))\n",
    "plt.xlabel('# pixels per cell')\n",
    "plt.ylabel('count')\n",
    "plt.title('histogram of # pixels per cell (focusing on low counts)')\n",
    "plt.tight_layout()\n",
    "plt_show(plt, 'cells_small_area.png', dpi=152)"
   ],
   "metadata": {
    "collapsed": false,
    "pycharm": {
     "name": "#%%\n"
    }
   }
  },
  {
   "cell_type": "code",
   "execution_count": null,
   "outputs": [],
   "source": [
    "is_ok = (a <= cells) & (cells <= b)\n",
    "import pickle\n",
    "f = os.path.join('data/spatial_uzh_processed/a', f'ok_cells_{SPLIT}.npy')\n",
    "is_ok.numpy()\n",
    "d = {'list_of_cells': list_of_cells,\n",
    "     'list_of_ome_indices': list_of_ome_indices,\n",
    "     'list_of_ome_filenames': list_of_ome_filenames,\n",
    "     'list_of_cell_ids': list_of_cell_ids,\n",
    "     'cell_is_ok': is_ok.numpy()}\n",
    "pickle.dump(d, open(f, 'wb'))\n",
    "filtered_cells = cells[is_ok]\n",
    "\n",
    "plt.figure(figsize=(16, 9))\n",
    "plt.hist(cells.numpy(), bins=400)\n",
    "plt.xlim([a, b])\n",
    "plt_show(plt, 'cells_area_after_filtering.png')"
   ],
   "metadata": {
    "collapsed": false,
    "pycharm": {
     "name": "#%%\n"
    }
   }
  },
  {
   "cell_type": "code",
   "execution_count": null,
   "outputs": [],
   "source": [
    "large_cells = torch.nonzero(cells >= 700, as_tuple=True)[0]\n",
    "print(large_cells)"
   ],
   "metadata": {
    "collapsed": false,
    "pycharm": {
     "name": "#%%\n"
    }
   }
  },
  {
   "cell_type": "code",
   "execution_count": null,
   "outputs": [],
   "source": [
    "from data import OmeDataset, MasksDataset\n",
    "import matplotlib\n",
    "import colorsys\n",
    "import random\n",
    "\n",
    "ome_ds = OmeDataset(SPLIT)\n",
    "masks_ds = MasksDataset(SPLIT)\n",
    "for index in large_cells:\n",
    "    ome_index = ome_indices[index]\n",
    "    cell_id = cell_ids[index]\n",
    "    ome = ome_ds[ome_index]\n",
    "    masks = masks_ds[ome_index]\n",
    "    masks_all = masks.copy()\n",
    "    masks_all[masks > 0] = 1\n",
    "\n",
    "    masks_big = masks.copy()\n",
    "    masks_big[masks != cell_id.item()] = 0\n",
    "    masks_big[masks == cell_id.item()] = 1\n",
    "\n",
    "    channel = 20\n",
    "    plt.figure(figsize=(16, 9))\n",
    "    plt.imshow(ome[:, :, channel])\n",
    "\n",
    "\n",
    "    n_grays = 10000\n",
    "    g = np.random.random(n_grays)\n",
    "    colors = [(g[i], g[i], g[i], 0.5) for i in range(n_grays)]\n",
    "    colors[0] = (0., 0., 0., 0.)\n",
    "    cmap_gray = matplotlib.colors.LinearSegmentedColormap.from_list('random gray', colors, N=n_grays)\n",
    "    plt.imshow(masks, cmap_gray)\n",
    "\n",
    "    cmap_list = [(0., 0., 0., 0.), (1., 0., 0., 1.)]\n",
    "    cmap = matplotlib.colors.LinearSegmentedColormap.from_list('binary red', cmap_list, len(cmap_list))\n",
    "    plt.imshow(masks_big, cmap=cmap)\n",
    "    plt.tight_layout()\n",
    "    plt_show(plt, 'big_cells.png')\n",
    "    break"
   ],
   "metadata": {
    "collapsed": false,
    "pycharm": {
     "name": "#%%\n"
    }
   }
  },
  {
   "cell_type": "code",
   "execution_count": null,
   "outputs": [],
   "source": [],
   "metadata": {
    "collapsed": false,
    "pycharm": {
     "name": "#%%\n"
    }
   }
  },
  {
   "cell_type": "code",
   "execution_count": null,
   "outputs": [],
   "source": [],
   "metadata": {
    "collapsed": false,
    "pycharm": {
     "name": "#%%\n"
    }
   }
  },
  {
   "cell_type": "code",
   "execution_count": null,
   "outputs": [],
   "source": [],
   "metadata": {
    "collapsed": false,
    "pycharm": {
     "name": "#%%\n"
    }
   }
  },
  {
   "cell_type": "code",
   "execution_count": null,
   "outputs": [],
   "source": [],
   "metadata": {
    "collapsed": false,
    "pycharm": {
     "name": "#%%\n"
    }
   }
  },
  {
   "cell_type": "code",
   "execution_count": null,
   "outputs": [],
   "source": [],
   "metadata": {
    "collapsed": false,
    "pycharm": {
     "name": "#%%\n"
    }
   }
  },
  {
   "cell_type": "code",
   "execution_count": null,
   "outputs": [],
   "source": [],
   "metadata": {
    "collapsed": false,
    "pycharm": {
     "name": "#%%\n"
    }
   }
  },
  {
   "cell_type": "code",
   "execution_count": null,
   "outputs": [],
   "source": [],
   "metadata": {
    "collapsed": false,
    "pycharm": {
     "name": "#%%\n"
    }
   }
  },
  {
   "cell_type": "code",
   "execution_count": null,
   "outputs": [],
   "source": [],
   "metadata": {
    "collapsed": false,
    "pycharm": {
     "name": "#%%\n"
    }
   }
  },
  {
   "cell_type": "code",
   "execution_count": null,
   "outputs": [],
   "source": [],
   "metadata": {
    "collapsed": false,
    "pycharm": {
     "name": "#%%\n"
    }
   }
  },
  {
   "cell_type": "code",
   "execution_count": null,
   "outputs": [],
   "source": [],
   "metadata": {
    "collapsed": false,
    "pycharm": {
     "name": "#%%\n"
    }
   }
  },
  {
   "cell_type": "code",
   "execution_count": null,
   "outputs": [],
   "source": [
    "\n",
    "SPLIT = 'train'\n",
    "# SPLIT = 'validation'\n",
    "# SPLIT = 'test'\n",
    "\n",
    "import math\n",
    "from tqdm import tqdm\n",
    "\n",
    "ds = RawMeanDataset(SPLIT, filter_by_area=True)\n",
    "# scaler = StandardScaler(copy=True, with_mean=True, with_std=True)\n",
    "list_of_x = []\n",
    "list_of_z = []\n",
    "i = 0\n",
    "d = {}\n",
    "for i, x in enumerate(tqdm(ds)):\n",
    "    # if i > 20:\n",
    "    #     break\n",
    "    # std = torch.std(x, dim=0)\n",
    "    # x_scaled = x / std\n",
    "    q0 = np.quantile(x.numpy(), q=0.9, axis=0)\n",
    "    x0 = x / q0\n",
    "    q1 = np.quantile(x0.numpy(), q=0.5, axis=0)\n",
    "    if all(q1 < 1e-5):\n",
    "        print(i - 1)\n",
    "    # print(q.shape)\n",
    "    # assert False\n",
    "    # print(median)\n",
    "    # print(median.shape)\n",
    "    cofactor = q1 / math.sinh(1)\n",
    "    z = np.arcsinh(x0 / cofactor)\n",
    "    list_of_z.append(z)\n",
    "    list_of_x.append(x)\n",
    "    o = ds.filenames[i]\n",
    "    d[o] = {'q0': q0, 'q1': q1}\n",
    "\n",
    "f = os.path.join('data/spatial_uzh_processed/a', f'scaler_{SPLIT}.pickle')\n",
    "import pickle\n",
    "pickle.dump(d, open(f, 'wb'))\n",
    "print(\"ehi\")"
   ],
   "metadata": {
    "collapsed": false,
    "pycharm": {
     "name": "#%%\n"
    }
   }
  }
 ],
 "metadata": {
  "kernelspec": {
   "display_name": "Python 3",
   "language": "python",
   "name": "python3"
  },
  "language_info": {
   "codemirror_mode": {
    "name": "ipython",
    "version": 2
   },
   "file_extension": ".py",
   "mimetype": "text/x-python",
   "name": "python",
   "nbconvert_exporter": "python",
   "pygments_lexer": "ipython2",
   "version": "2.7.6"
  }
 },
 "nbformat": 4,
 "nbformat_minor": 0
}