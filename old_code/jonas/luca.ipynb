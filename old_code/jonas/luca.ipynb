{
 "cells": [
  {
   "cell_type": "code",
   "execution_count": 2,
   "metadata": {},
   "outputs": [],
   "source": [
    "import hashlib\n",
    "import pandas as pd\n",
    "\n",
    "from pathlib import Path\n",
    "from tqdm.auto import tqdm"
   ]
  },
  {
   "cell_type": "code",
   "execution_count": 4,
   "metadata": {},
   "outputs": [
    {
     "name": "stderr",
     "output_type": "stream",
     "text": [
      "100%|██████████| 418/418 [04:05<00:00,  1.70it/s]\n",
      "100%|██████████| 418/418 [00:06<00:00, 68.00it/s] \n"
     ]
    }
   ],
   "source": [
    "def md5(file_path):\n",
    "    hash_md5 = hashlib.md5()\n",
    "    with Path(file_path).open(mode='rb') as f:\n",
    "        for chunk in iter(lambda: f.read(4096), b\"\"):\n",
    "            hash_md5.update(chunk)\n",
    "    return hash_md5.hexdigest()\n",
    "\n",
    "img_dirs = [\n",
    "    '/media/jonas/Windhager/DeepIMC/datasets/basel/tiff',\n",
    "    '/media/jonas/Windhager/DeepIMC/datasets/zurich/tiff',\n",
    "]\n",
    "mask_dirs = [\n",
    "    '/media/jonas/Windhager/DeepIMC/datasets/basel/masks',\n",
    "    '/media/jonas/Windhager/DeepIMC/datasets/zurich/masks',\n",
    "]\n",
    "\n",
    "img_file_paths = [img_file_path for img_dir in img_dirs for img_file_path in sorted(Path(img_dir).iterdir())]\n",
    "img_hashes = pd.DataFrame(data={\n",
    "    'file': [img_file_path.name for img_file_path in img_file_paths],\n",
    "    'md5': [md5(img_file_path) for img_file_path in tqdm(img_file_paths)],\n",
    "})\n",
    "img_hashes.to_csv('img_hashes.csv', index=False)\n",
    "\n",
    "mask_file_paths = [mask_file_path for mask_dir in mask_dirs for mask_file_path in sorted(Path(mask_dir).iterdir())]\n",
    "mask_hashes = pd.DataFrame(data={\n",
    "    'file': [mask_file_path.name for mask_file_path in mask_file_paths],\n",
    "    'md5': [md5(mask_file_path) for mask_file_path in tqdm(mask_file_paths)],\n",
    "})\n",
    "mask_hashes.to_csv('mask_hashes.csv', index=False)"
   ]
  },
  {
   "cell_type": "code",
   "execution_count": 1,
   "metadata": {},
   "outputs": [],
   "source": [
    "\n",
    "def md5_of_jonas_img(img_file_path):\n",
    "    img_file_name = _fix_file_name(Path(img_file_path).name)\n",
    "    df = pd.read_csv('img_hashes.csv', index_col='file')\n",
    "    if img_file_name in df.index:\n",
    "        return df.loc[img_file_name, 'md5']\n",
    "    return 'skipping the file'\n",
    "\n",
    "def md5_of_jonas_masks(mask_file_path):\n",
    "    mask_file_name = _fix_file_name(Path(mask_file_path).name)\n",
    "    df = pd.read_csv('mask_hashes.csv', index_col='file')\n",
    "    if mask_file_name in df.index:\n",
    "        return df.loc[mask_file_name, 'md5']\n",
    "    return 'skipping the file'\n",
    "\n",
    "def _fix_file_name(file_name):\n",
    "    if file_name.startswith('BaselTMA'):\n",
    "        return _fix_basel_file_name(file_name)\n",
    "    if file_name.startswith('ZTMA208'):\n",
    "        return _fix_zurich_file_name(file_name)\n",
    "    raise ValueError('Unknown file name')\n",
    "\n",
    "def _fix_basel_file_name(file_name):\n",
    "    file_name = file_name.replace('_20179015_', '_20170915_')\n",
    "    file_name = file_name.replace('_a0_full.tiff', '.tiff')\n",
    "    file_name = file_name.replace('_a0_full_maks.tiff', '_mask.tiff')\n",
    "    return file_name\n",
    "\n",
    "def _fix_zurich_file_name(file_name):\n",
    "    file_name = file_name.replace('_a0_full.tiff', '.tiff')\n",
    "    file_name = file_name.replace('_a0_full_maks.tiff', '_mask.tiff')\n",
    "    return file_name"
   ]
  }
 ],
 "metadata": {
  "kernelspec": {
   "display_name": "Python 3",
   "language": "python",
   "name": "python3"
  },
  "language_info": {
   "codemirror_mode": {
    "name": "ipython",
    "version": 3
   },
   "file_extension": ".py",
   "mimetype": "text/x-python",
   "name": "python",
   "nbconvert_exporter": "python",
   "pygments_lexer": "ipython3",
   "version": "3.8.0"
  }
 },
 "nbformat": 4,
 "nbformat_minor": 4
}
