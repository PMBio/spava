{
 "cells": [
  {
   "cell_type": "code",
   "execution_count": null,
   "metadata": {},
   "outputs": [],
   "source": [
    "import pl_bolts.utils"
   ]
  },
  {
   "cell_type": "code",
   "execution_count": 1,
   "metadata": {},
   "outputs": [],
   "source": [
    "import os\n",
    "import sys\n",
    "\n",
    "os.chdir('/data/l989o/deployed/a')\n",
    "if '/data/l989o/a' in sys.path:\n",
    "    sys.path.remove('/data/l989o/a')"
   ]
  },
  {
   "cell_type": "code",
   "execution_count": 2,
   "metadata": {},
   "outputs": [
    {
     "name": "stderr",
     "output_type": "stream",
     "text": [
      "Global seed set to 1234\n"
     ]
    },
    {
     "name": "stdout",
     "output_type": "stream",
     "text": [
      "fino a qui tutto bene\n"
     ]
    }
   ],
   "source": [
    "import torch\n",
    "from torch.utils.data import DataLoader\n",
    "from models.ae_conv_vae_lightning import VAE, RGBCells\n",
    "import numpy as np"
   ]
  },
  {
   "cell_type": "code",
   "execution_count": 3,
   "metadata": {},
   "outputs": [],
   "source": [
    "import matplotlib.pyplot as plt\n",
    "from torchvision import transforms\n",
    "from torchvision.utils import make_grid\n",
    "import PIL\n",
    "import random\n",
    "from torch import nn"
   ]
  },
  {
   "cell_type": "markdown",
   "metadata": {},
   "source": [
    "# checking the augmented data"
   ]
  },
  {
   "cell_type": "code",
   "execution_count": 4,
   "metadata": {},
   "outputs": [
    {
     "data": {
      "image/png": "[encoded data removed]",
      "text/plain": [
       "<Figure size 432x288 with 2 Axes>"
      ]
     },
     "metadata": {
      "needs_background": "light"
     },
     "output_type": "display_data"
    }
   ],
   "source": [
    "%matplotlib inline\n",
    "val_ds = RGBCells('validation', augment=True, aggressive_rotation=True)\n",
    "n = len(val_ds)\n",
    "i = random.randrange(0, n)\n",
    "data = val_ds[i]\n",
    "ome = data[0]\n",
    "mask = data[1]\n",
    "ome = ome.permute(1, 2, 0).numpy()\n",
    "mask = mask.permute(1, 2, 0).numpy().astype(np.bool)\n",
    "def scale(x):\n",
    "    a = np.amin(x, axis=(0, 1))\n",
    "    b = np.amax(x, axis=(0, 1))\n",
    "    return (x - a) / (b - a)\n",
    "ome = scale(ome)\n",
    "axes = plt.subplots(1, 2)[1].flatten()\n",
    "ax = axes[0]\n",
    "ax.imshow(ome)\n",
    "ax = axes[1]\n",
    "ax.imshow(mask)\n",
    "plt.show()"
   ]
  },
  {
   "cell_type": "code",
   "execution_count": 5,
   "metadata": {},
   "outputs": [
    {
     "data": {
      "text/plain": [
       "(32, 32, 3)"
      ]
     },
     "execution_count": 5,
     "metadata": {},
     "output_type": "execute_result"
    }
   ],
   "source": [
    "mask.shape\n",
    "np.tile(mask, (1, 1, 3)).shape"
   ]
  },
  {
   "cell_type": "code",
   "execution_count": 6,
   "metadata": {},
   "outputs": [
    {
     "data": {
      "image/png": "[encoded data removed]",
      "text/plain": [
       "<Figure size 900x600 with 9 Axes>"
      ]
     },
     "metadata": {
      "needs_background": "light"
     },
     "output_type": "display_data"
    }
   ],
   "source": [
    "t = transforms.Compose([\n",
    "    transforms.RandomApply(nn.ModuleList([transforms.RandomRotation(degrees=360)])),\n",
    "])\n",
    "mask = mask.astype(float)\n",
    "rgb_mask = np.tile(mask, (1, 1, 3))\n",
    "rgb_mask *= 255\n",
    "rgb_mask = rgb_mask.astype(np.uint8)\n",
    "axes = plt.subplots(3, 3, dpi=150)[1].flatten()\n",
    "all_identical = set()\n",
    "state = torch.get_rng_state()\n",
    "for ax in axes:\n",
    "    torch.set_rng_state(state)\n",
    "    x = t(PIL.Image.fromarray(rgb_mask))\n",
    "    ax.imshow(x)\n",
    "    all_identical.add(tuple(np.array(x).flatten().tolist()))\n",
    "assert len(all_identical) == 1"
   ]
  },
  {
   "cell_type": "markdown",
   "metadata": {},
   "source": [
    "# checking the reconstruction"
   ]
  },
  {
   "cell_type": "code",
   "execution_count": 7,
   "metadata": {},
   "outputs": [
    {
     "data": {
      "text/plain": [
       "['epoch=19-step=8739.ckpt']"
      ]
     },
     "execution_count": 7,
     "metadata": {},
     "output_type": "execute_result"
    }
   ],
   "source": [
    "model_path = '/data/l989o/spatial_uzh/data/spatial_uzh_processed/a/checkpoints/resnet_vae/version_115/checkpoints'\n",
    "l = os.listdir(model_path)\n",
    "assert len(l) == 1\n",
    "assert l[0].endswith('.ckpt')\n",
    "l"
   ]
  },
  {
   "cell_type": "code",
   "execution_count": 8,
   "metadata": {},
   "outputs": [],
   "source": [
    "checkpoint = os.path.join(model_path, l[0])"
   ]
  },
  {
   "cell_type": "code",
   "execution_count": null,
   "metadata": {},
   "outputs": [],
   "source": [
    "model = VAE.load_from_checkpoint(checkpoint)"
   ]
  },
  {
   "cell_type": "code",
   "execution_count": null,
   "metadata": {},
   "outputs": [],
   "source": [
    "val_ds = RGBCells('validation', augment=True, aggressive_rotation=True)\n",
    "val_loader = DataLoader(val_ds, batch_size=16, num_workers=8, pin_memory=True, shuffle=True)\n",
    "data = val_loader.__iter__().__next__()"
   ]
  },
  {
   "cell_type": "code",
   "execution_count": null,
   "metadata": {},
   "outputs": [],
   "source": [
    "model = model.cuda()\n",
    "data = [d.to(model.device) for d in data]"
   ]
  },
  {
   "cell_type": "code",
   "execution_count": null,
   "metadata": {},
   "outputs": [],
   "source": [
    "%%time\n",
    "with torch.no_grad():\n",
    "    z = [zz.cpu() for zz in model(*data)]"
   ]
  },
  {
   "cell_type": "code",
   "execution_count": null,
   "metadata": {},
   "outputs": [],
   "source": [
    "torch.cuda.empty_cache()"
   ]
  },
  {
   "cell_type": "code",
   "execution_count": null,
   "metadata": {},
   "outputs": [],
   "source": [
    "COOL_CHANNELS = [0, 10, 20]\n",
    "\n",
    "def get_scale_location():\n",
    "    mean = np.array([0.3128328, 0.08154685, 0.02617499, 0.31149776, 0.10011313,\n",
    "                     0.13143819, 0.04897958, 0.05522078, 0.02628855, 0.12524123,\n",
    "                     0.15552816, 0.08004793, 0.13349437, 0.02045013, 0.04155505,\n",
    "                     0.07637688, 0.05526352, 0.04818857, 0.11221485, 0.01779799,\n",
    "                     0.53215206, 0.08219107, 0.03510931, 0.08550659, 0.02237169,\n",
    "                     0.02657647, 0.09854327, 0.22031476, 0.04274541, 0.06778383,\n",
    "                     0.24079644, 0.09004467, 0.0234197, 0.13312621, 0.04914724,\n",
    "                     0.29719813, 0.10172928, 0.18843424, 0.25893724])\n",
    "    std = np.sqrt(np.array([0.81152901, 0.11195328, 0.03844969, 0.76020458, 0.19636732,\n",
    "                            0.30648388, 0.06448294, 0.08879372, 0.03747649, 0.32956727,\n",
    "                            0.40133228, 0.11878445, 0.24177647, 0.02510913, 0.05398327,\n",
    "                            0.15110854, 0.09525968, 0.07278724, 0.17972434, 0.01950939,\n",
    "                            1.73329118, 0.11334923, 0.04934192, 0.15689578, 0.02762272,\n",
    "                            0.03045641, 0.16039316, 0.49438282, 0.07485281, 0.10151964,\n",
    "                            0.45035213, 0.15424273, 0.02854364, 0.23177609, 0.09494518,\n",
    "                            0.98995058, 0.14861627, 0.41785507, 0.66190155]))\n",
    "    mean = mean[COOL_CHANNELS]\n",
    "    std = std[COOL_CHANNELS]\n",
    "    return mean, std\n",
    "\n",
    "def get_quantiles():\n",
    "    quantiles_for_normalization = np.array([4.0549, 1.8684, 1.3117, 3.8141, 2.6172, 3.1571, 1.4984, 1.8866, 1.2621,\n",
    "                                        3.7035, 3.6496, 1.8566, 2.5784, 0.9939, 1.4314, 2.1803, 1.8672, 1.6674,\n",
    "                                        2.3555, 0.8917, 5.1779, 1.8002, 1.4042, 2.3873, 1.0509, 1.0892, 2.2708,\n",
    "                                        3.4417, 1.8348, 1.8449, 2.8699, 2.2071, 1.0464, 2.5855, 2.0384, 4.8609,\n",
    "                                        2.0277, 3.3281, 3.9273])[COOL_CHANNELS]\n",
    "    return quantiles_for_normalization"
   ]
  },
  {
   "cell_type": "code",
   "execution_count": null,
   "metadata": {},
   "outputs": [],
   "source": [
    "print(model.negative_binomial_p_logit)\n",
    "print(torch.sigmoid(model.negative_binomial_p_logit))"
   ]
  },
  {
   "cell_type": "code",
   "execution_count": null,
   "metadata": {},
   "outputs": [],
   "source": [
    "%matplotlib inline\n",
    "\n",
    "quantiles = get_quantiles()\n",
    "loader = val_loader\n",
    "all_originals = []\n",
    "all_originals_masked = []\n",
    "all_reconstructed = []\n",
    "all_reconstructed_masked = []\n",
    "mask_color = torch.tensor([x / 255 for x in [254, 112, 31]]).float()\n",
    "new_size = (128, 128)\n",
    "upscale = transforms.Resize(new_size, interpolation=PIL.Image.NEAREST)\n",
    "n = 15\n",
    "with torch.no_grad():\n",
    "    batch = loader.__iter__().__next__()\n",
    "    omes = batch[0]\n",
    "    masks = batch[1]\n",
    "    assert len(omes.shape) == 4\n",
    "    assert len(omes) >= n\n",
    "    data = omes[:n].to(model.device)\n",
    "    masks_data = masks[:n].to(model.device)\n",
    "    pred = model.forward(data, masks_data)[0]\n",
    "n_channels = data.shape[1]\n",
    "all_original_c = {c: [] for c in range(n_channels)}\n",
    "all_original_masked_c = {c: [] for c in range(n_channels)}\n",
    "all_reconstructed_c = {c: [] for c in range(n_channels)}\n",
    "all_reconstructed_masked_c = {c: [] for c in range(n_channels)}\n",
    "\n",
    "for i in range(n):\n",
    "    original = data[i].cpu().permute(1, 2, 0) * quantiles\n",
    "    r_hat = pred[i].cpu().permute(1, 2, 0)\n",
    "    p = model.boosted_sigmoid(model.negative_binomial_p_logit).cpu().detach()\n",
    "    mean = model.negative_binomial_mean(r=r_hat, p=p)\n",
    "    reconstructed = mean * quantiles\n",
    "    \n",
    "    a_original = original.amin(dim=(0, 1))\n",
    "    b_original = original.amax(dim=(0, 1))\n",
    "    m = masks_data[i].cpu().bool()\n",
    "    mm = torch.squeeze(m, 0)\n",
    "    reconstructed_flattened = torch.reshape(reconstructed, (-1, reconstructed.shape[-1]))\n",
    "    mask_flattened = mm.flatten()\n",
    "    a_reconstructed = reconstructed_flattened[mask_flattened, :].amin(dim=0)\n",
    "    b_reconstructed = reconstructed_flattened[mask_flattened, :].amax(dim=0)\n",
    "    a = torch.min(a_original, a_reconstructed)\n",
    "    b = torch.max(b_original, b_reconstructed)\n",
    "    \n",
    "    original = ((original - a) / (b - a)).float()\n",
    "    reconstructed = ((reconstructed - a) / (b - a)).float()\n",
    "    \n",
    "    mm_not = torch.logical_not(mm)\n",
    "    assert torch.all(reconstructed[mm, :] >=0.)\n",
    "    assert torch.all(reconstructed[mm, :] <= 1.)\n",
    "    reconstructed = torch.clamp(reconstructed, 0., 1.)\n",
    "    \n",
    "    original_masked = original.clone()\n",
    "    original_masked[mm_not, :] = mask_color\n",
    "    reconstructed_masked = reconstructed.clone()\n",
    "    reconstructed_masked[mm_not, :] = mask_color\n",
    "    \n",
    "    upscaled_mm = upscale(m).squeeze(0)\n",
    "    upscaled_mm_not = torch.logical_not(upscale(m).squeeze(0))\n",
    "    for c in range(n_channels):\n",
    "        original_c = original[:, :, c]\n",
    "        original_c = torch.stack([original_c] * 3, dim=2)\n",
    "\n",
    "        reconstructed_c = reconstructed[:, :, c]\n",
    "        reconstructed_c = torch.stack([reconstructed_c] * 3, dim=2)\n",
    "        \n",
    "        def f(t):\n",
    "            t = t.permute(2, 0, 1)\n",
    "            t = upscale(t)\n",
    "            return t\n",
    "        \n",
    "        def overlay_mask(t):\n",
    "            t = t.clone()\n",
    "            t[mm_not, :] = mask_color\n",
    "            return t\n",
    "            \n",
    "        a_original_c = original_c.amin(dim=(0, 1))\n",
    "        b_original_c = original_c.amax(dim=(0, 1))\n",
    "        reconstructed_flattened_c = torch.reshape(reconstructed_c, (-1, reconstructed_c.shape[-1]))\n",
    "        mask_flattened = mm.flatten()\n",
    "        a_reconstructed_c = reconstructed_flattened_c[mask_flattened, :].amin(dim=0)\n",
    "        b_reconstructed_c = reconstructed_flattened_c[mask_flattened, :].amax(dim=0)\n",
    "        a_c = torch.min(a_original_c, a_reconstructed_c)\n",
    "        b_c = torch.max(b_original_c, b_reconstructed_c)\n",
    "        \n",
    "        t = (original_c - a_c) / (b_c - a_c)\n",
    "        all_original_c[c].append(f(t))\n",
    "        all_original_masked_c[c].append(f(overlay_mask(t)))\n",
    "        t = (reconstructed_c - a_c) / (b_c - a_c)\n",
    "        all_reconstructed_c[c].append(f(t))\n",
    "        all_reconstructed_masked_c[c].append(f(overlay_mask(t)))\n",
    "    \n",
    "    original = upscale(original.permute(2, 0, 1))\n",
    "    reconstructed = upscale(reconstructed.permute(2, 0, 1))\n",
    "    original_masked = upscale(original_masked.permute(2, 0, 1))\n",
    "    reconstructed_masked = upscale(reconstructed_masked.permute(2, 0, 1))\n",
    "    \n",
    "    all_originals.append(original)\n",
    "    all_reconstructed.append(reconstructed)\n",
    "    all_originals_masked.append(original_masked)\n",
    "    all_reconstructed_masked.append(reconstructed_masked)\n",
    "    \n",
    "l = all_originals + all_reconstructed + all_originals_masked + all_reconstructed_masked\n",
    "for c in range(n_channels):\n",
    "    l += (all_original_c[c] + all_reconstructed_c[c] + all_original_masked_c[c] + all_reconstructed_masked_c[c])\n",
    "    \n",
    "img = make_grid(l, nrow=n)\n",
    "plt.figure(figsize=(30, 30))\n",
    "im = img.permute(1, 2, 0).numpy()\n",
    "print(im.shape, im.min(), im.max())\n",
    "plt.imshow(im)\n",
    "plt.show()"
   ]
  },
  {
   "cell_type": "code",
   "execution_count": null,
   "metadata": {},
   "outputs": [],
   "source": [
    "def f(x):\n",
    "    a = []\n",
    "    b = []\n",
    "    for tt in x:\n",
    "        a.append(tt.min().item())\n",
    "        b.append(tt.max().item())\n",
    "    print(a)\n",
    "    print(b)\n",
    "    print()\n",
    "f(all_originals)\n",
    "f(all_reconstructed)\n",
    "f(all_originals_masked)\n",
    "f(all_reconstructed_masked)"
   ]
  },
  {
   "cell_type": "code",
   "execution_count": null,
   "metadata": {},
   "outputs": [],
   "source": [
    "for c in range(n_channels):\n",
    "    print('channel', c)\n",
    "    f(all_original_c[c])\n",
    "    f(all_reconstructed_c[c])\n",
    "    f(all_original_masked_c[c])\n",
    "    f(all_reconstructed_masked_c[c])"
   ]
  },
  {
   "cell_type": "markdown",
   "metadata": {},
   "source": [
    "# checking the embeddings"
   ]
  },
  {
   "cell_type": "code",
   "execution_count": null,
   "metadata": {},
   "outputs": [],
   "source": [
    "train_ds = RGBCells('train')\n",
    "val_ds = RGBCells('validation')\n",
    "train_loader = DataLoader(train_ds, batch_size=512, num_workers=8, pin_memory=True)\n",
    "val_loader = DataLoader(val_ds, batch_size=512, num_workers=8, pin_memory=True)"
   ]
  },
  {
   "cell_type": "code",
   "execution_count": null,
   "metadata": {},
   "outputs": [],
   "source": [
    "from tqdm import tqdm\n",
    "\n",
    "quantiles = get_quantiles()\n",
    "loader = val_loader\n",
    "n = 0\n",
    "mus = []\n",
    "stds = []\n",
    "with torch.no_grad():\n",
    "    for batch in tqdm(loader):\n",
    "        omes = batch[0]\n",
    "        masks = batch[1]\n",
    "        assert len(omes.shape) == 4\n",
    "        data = omes.to(model.device)\n",
    "        masks_data = masks.to(model.device)\n",
    "        pred, mu, std, _ = model.forward(data, masks_data)\n",
    "        mus.append(mu.cpu())\n",
    "        stds.append(std.cpu())\n",
    "        n += len(mu)\n",
    "        if n > 10000:\n",
    "            break"
   ]
  },
  {
   "cell_type": "code",
   "execution_count": null,
   "metadata": {},
   "outputs": [],
   "source": [
    "all_mus = torch.cat(mus, dim=0)\n",
    "all_stds = torch.cat(stds, dim=0)\n",
    "print(all_mus.shape)\n",
    "print(all_stds.shape)"
   ]
  },
  {
   "cell_type": "code",
   "execution_count": null,
   "metadata": {},
   "outputs": [],
   "source": [
    "print(torch.sum(all_mus.isinf()))\n",
    "print(torch.sum(all_mus.isnan()))\n",
    "print(torch.sum(all_stds.isinf()))\n",
    "print(torch.sum(all_stds.isnan()))"
   ]
  },
  {
   "cell_type": "code",
   "execution_count": null,
   "metadata": {},
   "outputs": [],
   "source": [
    "import scanpy as sc\n",
    "import anndata as ad"
   ]
  },
  {
   "cell_type": "code",
   "execution_count": null,
   "metadata": {},
   "outputs": [],
   "source": [
    "a = ad.AnnData(all_mus.numpy())\n",
    "\n",
    "sc.tl.pca(a, svd_solver='arpack')\n",
    "sc.pl.pca(a, color='0')\n",
    "sc.pl.pca_variance_ratio(a)\n",
    "# sc.pl.pca_variance_ratio(a, log=True)\n",
    "sc.pp.neighbors(a)\n",
    "sc.tl.leiden(a)\n",
    "sc.tl.umap(a)\n",
    "sc.pl.umap(a, color='leiden')"
   ]
  },
  {
   "cell_type": "code",
   "execution_count": null,
   "metadata": {},
   "outputs": [],
   "source": []
  }
 ],
 "metadata": {
  "kernelspec": {
   "display_name": "Python 3.8 (XPython)",
   "language": "python",
   "name": "xpython"
  },
  "language_info": {
   "file_extension": ".py",
   "mimetype": "text/x-python",
   "name": "python",
   "version": "3.8.8"
  }
 },
 "nbformat": 4,
 "nbformat_minor": 4
}
